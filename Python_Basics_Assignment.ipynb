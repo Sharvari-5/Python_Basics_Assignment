{
  "nbformat": 4,
  "nbformat_minor": 0,
  "metadata": {
    "colab": {
      "provenance": []
    },
    "kernelspec": {
      "name": "python3",
      "display_name": "Python 3"
    },
    "language_info": {
      "name": "python"
    }
  },
  "cells": [
    {
      "cell_type": "markdown",
      "source": [
        "# **PYTHON** **BASICS** **ASSIGNMENT**"
      ],
      "metadata": {
        "id": "iX4d17gaJgdM"
      }
    },
    {
      "cell_type": "markdown",
      "source": [
        "# **THEORY** **QUESTIONS**\n"
      ],
      "metadata": {
        "id": "JaAI5QmlJAGe"
      }
    },
    {
      "cell_type": "markdown",
      "source": [
        "Que.1 What is Python, and why is it popular?\n",
        "\n",
        " ->   Python is a versatile, general-purpose, high-level programming language\n",
        "      known for its readability and simplicity, which has made it incredibly popular for a wide range of applications, including web development, data science, and machine learning.\n",
        "\n",
        "      General-Purpose:\n",
        "       Python is designed to be used for various tasks, rather than being specialized for a specific area.\n",
        "      High-Level:\n",
        "       Python is a high-level language, meaning it's designed to be easy for humans to read and write, with a\n",
        "       syntax that is relatively simple and intuitive.\n",
        "      Interpreted:\n",
        "       Python is an interpreted language, meaning the code\n",
        "       is executed line by line, rather than compiled into machine code first.\n",
        "      Object-oriented\n",
        "       Python supports object oriented programming paradigms\n",
        "      Versatile:\n",
        "       Python can be used for web development, data analysis, machine learning, automation, and more.\n",
        "      Beginner-Friendly:\n",
        "       Python's simple syntax makes it a good language for\n",
        "       beginners to learn.\n",
        "      Large Community:\n",
        "       Python has a large and active community, which provides support and resources for developers.\n",
        "      Extensive Libraries:\n",
        "       Python has a wide variety of libraries and frameworks that\n",
        "       make it easier to perform specific tasks, such as web development (Django, Flask) or data analysis (NumPy, Pandas).\n",
        "\n",
        "   * Why python is popular?\n",
        "      Readability and Simplicity:\n",
        "       Python's syntax is designed to be easy to read and understand, which makes it easier to learn and maintain.\n",
        "      Versatility:\n",
        "       Python can be used for a wide range of applications, making it a valuable skill for developers.\n",
        "      Large Community and Resources:\n",
        "       The large and active Python community provides extensive support, tutorials, and documentation.\n",
        "      Extensive Libraries and Frameworks:\n",
        "       Python has a wide variety of libraries and frameworks that make it easier to perform specific tasks, such as web development or data analysis.\n",
        "      Growing Demand:\n",
        "       Python is in high demand in the job market, particularly in fields like data science, machine learning, and web development.\n",
        "      Cross-Platform:\n",
        "       Python can run on various operating systems, including Windows, macOS, and Linux.\n",
        "\n",
        "\n"
      ],
      "metadata": {
        "id": "eJ6Kq88xMlMO"
      }
    },
    {
      "cell_type": "markdown",
      "source": [
        "Que.2 What is an interpreter in Python?\n",
        "\n",
        " ->   In Python, the interpreter is a program that reads and executes Python\n",
        "      code line by line.\n",
        "      The Python interpreter is a software program that takes Python code as input and translates it into instructions that the computer can understand and execute.\n"
      ],
      "metadata": {
        "id": "8Ga_QdREOrQg"
      }
    },
    {
      "cell_type": "markdown",
      "source": [
        "Que.3 What are pre-defined keywords in Python?\n",
        "\n",
        " ->   Python Keywords are some predefined and reserved words in Python that\n",
        "      have special meanings. Keywords are used to define the syntax of the coding. The keyword cannot be used as an identifier, function, or variable name. All the keywords in Python are written in lowercase except True and False.\n",
        "      They perform specific tasks in Python programming and are a part of its syntax.\n",
        "\n",
        "      Here is the code to view the complete list of Python keywords:\n",
        "\n",
        "      import keyword\n",
        "      print(keyword.kwlist)"
      ],
      "metadata": {
        "id": "E4wODfzqQETb"
      }
    },
    {
      "cell_type": "markdown",
      "source": [
        "Que.4 Can keywords be used as variable names?\n",
        "\n",
        " ->   No, we cannot use keywords as variable names, in most programming languages because keywords are reserved words with specific meanings to the compiler or interpreter, and using them as variable names would cause ambiguity and errors.\n",
        "\n",
        "\n",
        "Keywords are reserved words:\n",
        "Programming languages have a set of keywords that have predefined meanings, such as if, else, while, for, class, def, etc.\n",
        "\n",
        "Ambiguity:\n",
        "If you were allowed to use keywords as variable names, the compiler or interpreter wouldn't know whether you meant to use the word as a keyword or as a variable name.\n",
        "\n",
        "Errors:\n",
        "Using a keyword as a variable name will likely result in a syntax error or unexpected behavior.\n",
        "\n",
        "Examples:\n",
        "In Python, if, else, while, for, def, class are keywords and cannot be used as variable names."
      ],
      "metadata": {
        "id": "sKM6-eKYRJry"
      }
    },
    {
      "cell_type": "markdown",
      "source": [
        "Que.5 What is mutability in Python?\n",
        "\n",
        " -> Mutability is when something is changeable or has the ability to change.  \n",
        "     In Python, ‘mutable’ is the ability of objects to change their values. These are often the objects that store a collection of data."
      ],
      "metadata": {
        "id": "be9msOfgRzgh"
      }
    },
    {
      "cell_type": "markdown",
      "source": [
        "Que.6 Why are lists mutable, but tuples are immutable?\n",
        "  \n",
        "  ->  Lists are considered mutable data types because they can be modified or changed after they are created. This means that the elements of a list can be added, removed, or modified without creating a new list.\n",
        "\n",
        "  Tuples are immutable because they are meant to be used for fixed collections of items that shouldn't change.\n"
      ],
      "metadata": {
        "id": "rh0yLmoQVCnm"
      }
    },
    {
      "cell_type": "markdown",
      "source": [
        "Que.7 What is the difference between “==” and “is” operators in Python?\n",
        "\n",
        " ->.  The == operator helps us compare the equality of objects.The == operator is used in Python when the values of the operands are equal.\n",
        " In Python, == and is operators are both used for comparison but they serve different purposes. The == operator checks for equality of values which means it evaluates whether the values of two objects are the same.\n",
        "\n",
        "\n",
        "\n",
        " The 'is' is known as the identity operator.The is operator is used to check if different variables are pointing to the same object in memory.\n",
        " 'is' operator checks for identity, meaning it determines whether two variables point to the same object in memory."
      ],
      "metadata": {
        "id": "ZwgrSfP_Vjxx"
      }
    },
    {
      "cell_type": "markdown",
      "source": [
        "Que.8 What are logical operators in Python?\n",
        "\n",
        " ->   Logical operators in Python,is a symbol or word combines two or more operands and conduct logical comparisons on them.\n",
        "      There are three types, i.e., AND, OR, and NOT. They return a boolean value, i.e., True or False.\n",
        "      These operators, also known as Boolean operators, evaluate multiple conditions and\n",
        "      determine an expression's overall truth value."
      ],
      "metadata": {
        "id": "bR9FVQAIadt3"
      }
    },
    {
      "cell_type": "markdown",
      "source": [
        "Que.9 What is type casting in Python?\n",
        "\n",
        " ->  Type Casting is also known as type conversion, it is a process that converts a variable's data type into another data type. These conversions can be implicit (automatically interpreted) or explicit (using built-in function)\n",
        "\n",
        " Type casting, also known as type conversion, is the process of converting one data type into another. Ex: you want to change the data type of a variable from an integer 2 to a float 2.0. This is a case where you'd use type casting."
      ],
      "metadata": {
        "id": "wr9us7FeajqX"
      }
    },
    {
      "cell_type": "markdown",
      "source": [
        "Que.10 What is the difference between implicit and explicit type casting?\n",
        "\n",
        " ->    Implicit type casting:\n",
        " Implicit type casting, also known as widening conversion, is done automatically by the compiler when converting a smaller data type to a larger one.\n",
        " *Occurs automatically by the compiler or interpreter.\n",
        "*No special syntax or code is required.\n",
        "*Typically involves converting a smaller data type to a larger one (e.g., int to float) without any risk of data loss.\n",
        "Examples include converting from int to double or from a derived class to a base class.\n",
        "\n",
        "Explicit type casting:\n",
        "Explicit type casting, or type casting, requires the programmer to manually specify the conversion, often used when converting a larger type to a smaller one, which may result in data loss.\n",
        "*Requires the programmer to explicitly instruct the compiler to perform the conversion.\n",
        "*Uses a cast expression or operator (e.g., (int)).\n",
        "*Often used when converting a larger data type to a smaller one (e.g., float to int), which can potentially lead to data loss or truncation.\n",
        "Examples include converting from double to int or from a base class to a derived class."
      ],
      "metadata": {
        "id": "IOB0kNsmbGKr"
      }
    },
    {
      "cell_type": "markdown",
      "source": [
        "Que.11 What is the purpose of conditional statements in Python?\n",
        "\n",
        "->.    Conditional statements are an essential part of programming in Python.\n",
        "\n",
        "Conditional statements in Python are used to execute certain blocks of code based on specific conditions. These statements help control the flow of a program, making it behave differently in different situations.\n",
        "The purpose of conditional statements in programming languages like PHP is to enable decision-making, implement branching logic, and control the flow of execution based on specific conditions. They allow developers to create dynamic and responsive programs that can adapt to different scenarios and user inputs."
      ],
      "metadata": {
        "id": "9RKDFCGW7Ajg"
      }
    },
    {
      "cell_type": "markdown",
      "source": [
        "Que.12 How does the elif statement work?\n",
        "\n",
        "->.    The “elif” keyword in Python, stands for “else if”. It can be used in conditional statements to check for multiple conditions. For example, if the first condition is false, it moves on to the next “elif” statement to check if that condition is true.\n",
        "In programming, \"else if\" is a conditional statement that allows you to specify multiple conditions to be evaluated in a sequence."
      ],
      "metadata": {
        "id": "Ci8jqAHv7LO6"
      }
    },
    {
      "cell_type": "markdown",
      "source": [
        "Que.13 What is the difference between for and while loops?\n",
        "\n",
        "->    For Loop:\n",
        "      for loops are used when the number of iterations is known beforehand.\n",
        "      Purpose: Used when you know how many times you want to repeat a block of code.\n",
        "      Iteration Control: Iterates over a sequence (like a list, string, or range of numbers) or a counter variable.\n",
        "      Readability: Often more readable when you're iterating over a known collection or a fixed number of times.\n",
        "\n",
        "\n",
        "      While Loop:\n",
        "      while loops are used when the number of iterations depends on a dynamic condition.\n",
        "      Purpose: Used when you want to repeat a block of code until a specific condition becomes false.\n",
        "      Iteration Control: Executes the code block as long as a condition is true.\n",
        "      Flexibility: More flexible for situations where the number of iterations isn't known in advance or depends on a dynamic conditions.\n"
      ],
      "metadata": {
        "id": "78yeWzzY7kXe"
      }
    },
    {
      "cell_type": "markdown",
      "source": [
        "Que.14 Describe a scenario where a while loop is more suitable than a for loop?\n",
        "\n",
        "  ->   A 'while' loop is ideal for situations where the number of iterations is not predetermined and depends on some dynamic condition.\n",
        "  If you want the loop to break based on a condition other than the number of times it runs, you should use a while loop.\n",
        "  For example, if we want to ask a user for a number between 1 and 10, we don't know how many times the user may enter a larger number, so we keep asking \"while the number is not between 1 and 10\"."
      ],
      "metadata": {
        "id": "aGJ-NiGV7xyl"
      }
    },
    {
      "cell_type": "markdown",
      "source": [
        "# **PRACTICAL** **QUESTIONS**"
      ],
      "metadata": {
        "id": "q5WUx9MDJYK2"
      }
    },
    {
      "cell_type": "code",
      "source": [
        "#Que.1 Write a Python program to print \"Hello, World!\n",
        "sen1 = \"Hello World\"\n",
        "print(sen1)\n"
      ],
      "metadata": {
        "id": "25x_plLuMhA1",
        "colab": {
          "base_uri": "https://localhost:8080/"
        },
        "outputId": "3cb169c3-1eca-44e1-ced1-f8401cea4b70"
      },
      "execution_count": 2,
      "outputs": [
        {
          "output_type": "stream",
          "name": "stdout",
          "text": [
            "Hello World\n"
          ]
        }
      ]
    },
    {
      "cell_type": "code",
      "source": [
        "#Que.2 Write a Python program that displays your name and age8?\n",
        "\n",
        "#Example1:\n",
        "sen2 = \"My name is SHARVARI.\"\n",
        "sen3 = \"My age is 25 years old.\"\n",
        "print(sen2)\n",
        "print(sen3)\n",
        "\n",
        "#Example2:\n",
        "sen4 =\"My name is SHARVARI and my age is 25 years old\"\n",
        "print(sen4)"
      ],
      "metadata": {
        "id": "WpD1gZr7MhDh",
        "colab": {
          "base_uri": "https://localhost:8080/"
        },
        "outputId": "d08b9f3b-0b34-464e-dc0e-2f4c50cba182"
      },
      "execution_count": 9,
      "outputs": [
        {
          "output_type": "stream",
          "name": "stdout",
          "text": [
            "My name is SHARVARI\n",
            "My age is 25 years old.\n",
            "My name is SHARVARI and my age is 25 years old\n"
          ]
        }
      ]
    },
    {
      "cell_type": "code",
      "source": [
        "#Que.3 Write code to print all the pre-defined keywords in Python using the keyword library\n",
        "\n",
        "import keyword\n",
        "print(keyword.kwlist)\n"
      ],
      "metadata": {
        "id": "AgHURaQHMhGE",
        "colab": {
          "base_uri": "https://localhost:8080/"
        },
        "outputId": "bdf1d666-ca67-4c2a-9d71-e5e458b1e496"
      },
      "execution_count": 1,
      "outputs": [
        {
          "output_type": "stream",
          "name": "stdout",
          "text": [
            "['False', 'None', 'True', 'and', 'as', 'assert', 'async', 'await', 'break', 'class', 'continue', 'def', 'del', 'elif', 'else', 'except', 'finally', 'for', 'from', 'global', 'if', 'import', 'in', 'is', 'lambda', 'nonlocal', 'not', 'or', 'pass', 'raise', 'return', 'try', 'while', 'with', 'yield']\n"
          ]
        }
      ]
    },
    {
      "cell_type": "code",
      "source": [
        "#Que.4 Write a program that checks if a given word is a Python keyword.\n",
        "\n",
        "import keyword\n",
        "\n",
        "word = input(\"Enter a word:\")\n",
        "if keyword.iskeyword(word):\n",
        "  print(f\"{word} is a python keyword\")\n",
        "else:\n",
        "    print(f\"{word} is not a python keyword\")\n",
        "\n",
        "\n"
      ],
      "metadata": {
        "id": "z-eIlsuQ77YY",
        "colab": {
          "base_uri": "https://localhost:8080/"
        },
        "outputId": "6242d987-8ee0-45be-d19e-e26392ae5efd"
      },
      "execution_count": 12,
      "outputs": [
        {
          "output_type": "stream",
          "name": "stdout",
          "text": [
            "Enter a word:if\n",
            "if is a python keyword\n"
          ]
        }
      ]
    },
    {
      "cell_type": "code",
      "source": [
        "#Que.5 Create a list and tuple in Python, and demonstrate how attempting to change an element works differently for each.\n",
        "\n",
        "\n",
        "# Creating a list\n",
        "my_list = [1, 2, 3]\n",
        "print(\"Original list:\", my_list)\n",
        "\n",
        "# Modifying an element in the list\n",
        "my_list[1] = 99\n",
        "print(\"Modified list:\", my_list)\n",
        "\n",
        "# Creating a tuple\n",
        "my_tuple = (1, 2, 3)\n",
        "print(\"\\nOriginal tuple:\", my_tuple)\n",
        "\n",
        "# Attempting to modify an element in the tuple\n",
        "try:\n",
        "    my_tuple[1] = 99  # This will raise an error\n",
        "except TypeError as e:\n",
        "    print(\"Error:\", e)\n",
        "\n",
        ""
      ],
      "metadata": {
        "id": "Slb3ygCw77bK",
        "colab": {
          "base_uri": "https://localhost:8080/"
        },
        "outputId": "73cf5a7b-9eac-4021-e07f-7530d50fc623"
      },
      "execution_count": 13,
      "outputs": [
        {
          "output_type": "stream",
          "name": "stdout",
          "text": [
            "Original list: [1, 2, 3]\n",
            "Modified list: [1, 99, 3]\n",
            "\n",
            "Original tuple: (1, 2, 3)\n",
            "Error: 'tuple' object does not support item assignment\n"
          ]
        }
      ]
    },
    {
      "cell_type": "code",
      "source": [
        "#Que.6 Write a function to demonstrate the behavior of mutable and immutable arguments.\n",
        "\n",
        "def modify_arguments(immutable_arg, mutable_arg):\n",
        "    # Attempting to modify the immutable argument\n",
        "    immutable_arg += 10\n",
        "    print(\"Inside function (immutable):\", immutable_arg)\n",
        "\n",
        "    # Modifying the mutable argument\n",
        "    mutable_arg.append(99)\n",
        "    print(\"Inside function (mutable):\", mutable_arg)\n",
        "\n",
        "# Immutable argument (integer)\n",
        "num = 5\n",
        "# Mutable argument (list)\n",
        "numbers = [1, 2, 3]\n",
        "\n",
        "print(\"Before function call:\")\n",
        "print(\"Immutable argument:\", num)\n",
        "print(\"Mutable argument:\", numbers)\n",
        "\n",
        "modify_arguments(num, numbers)\n",
        "\n",
        "print(\"\\nAfter function call:\")\n",
        "print(\"Immutable argument:\", num)  # Remains unchanged\n",
        "print(\"Mutable argument:\", numbers)  # Changed due to in-place modification\n",
        "\n"
      ],
      "metadata": {
        "id": "mCV9KjV477dp",
        "colab": {
          "base_uri": "https://localhost:8080/"
        },
        "outputId": "c9a4e2e4-b289-443f-e174-ff285deb000a"
      },
      "execution_count": 14,
      "outputs": [
        {
          "output_type": "stream",
          "name": "stdout",
          "text": [
            "Before function call:\n",
            "Immutable argument: 5\n",
            "Mutable argument: [1, 2, 3]\n",
            "Inside function (immutable): 15\n",
            "Inside function (mutable): [1, 2, 3, 99]\n",
            "\n",
            "After function call:\n",
            "Immutable argument: 5\n",
            "Mutable argument: [1, 2, 3, 99]\n"
          ]
        }
      ]
    },
    {
      "cell_type": "code",
      "source": [
        "#Que.7 Write a program that performs basic arithmetic operations on two user-input numbers.\n",
        "\n",
        "num1 = int(input (\"Enter a number:\"))\n",
        "num2 = int(input (\"Enter a number\"))\n",
        "print(\"Addition of two number is\",num1 + num2)\n",
        "print(\"Substraction of two number is\",num1 - num2)\n",
        "print(\"Multiplication of two number is\",num1 * num2)\n",
        "print(\"Division of two number is\",num1 / num2)\n",
        "print(\"Modulus of two number is\",num1 % num2)\n",
        "print(\"Exponentation of two number is\",num1 ** num2)\n",
        "print(\"Floor division of two number is\",num1 // num2)\n"
      ],
      "metadata": {
        "colab": {
          "base_uri": "https://localhost:8080/"
        },
        "id": "-4hr7QvuWF8e",
        "outputId": "137ceb2e-5afc-4cc8-9787-9b5831d7bd9d"
      },
      "execution_count": 7,
      "outputs": [
        {
          "output_type": "stream",
          "name": "stdout",
          "text": [
            "Enter a number:10\n",
            "Enter a number20\n",
            "Addition of two number is 30\n",
            "Substraction of two number is -10\n",
            "Multiplication of two number is 200\n",
            "Division of two number is 0.5\n",
            "Modulus of two number is 10\n",
            "Exponentation of two number is 100000000000000000000\n",
            "Floor division of two number is 0\n"
          ]
        }
      ]
    },
    {
      "cell_type": "code",
      "source": [
        "#Que.8 Write a program to demonstrate the use of logical operators.\n",
        "\n",
        "num1 = int(input(\"Enter a number:\"))\n",
        "num2 = int(input(\"Enter a number:\"))\n",
        "print(num1 > 0 and num2 >0)\n",
        "print(num1 > 0 or num2 >0)\n",
        "print(not num1 > 0)\n"
      ],
      "metadata": {
        "colab": {
          "base_uri": "https://localhost:8080/"
        },
        "id": "9e6BTaHwWF_0",
        "outputId": "f3663a7c-a5f9-444d-f11c-90a4d74a1bf8"
      },
      "execution_count": 36,
      "outputs": [
        {
          "output_type": "stream",
          "name": "stdout",
          "text": [
            "Enter a number:30\n",
            "Enter a number:40\n",
            "True\n",
            "True\n",
            "False\n"
          ]
        }
      ]
    },
    {
      "cell_type": "code",
      "source": [
        "\n",
        "#Que.9 Write a Python program to convert user input from string to integer, float, and boolean types.\n",
        "\n",
        "str1 = int(input(\"Enter a string\"))\n",
        "print(\"Integer value is:\",str1)\n",
        "\n",
        "\n",
        "str2 = float(input(\"Enter a string\"))\n",
        "print(\"float value is:\",str2)\n",
        "\n",
        "str3 = bool(input(\"Enter a string\"))\n",
        "print(\"boolean value is:\",str3)\n",
        "\n"
      ],
      "metadata": {
        "colab": {
          "base_uri": "https://localhost:8080/"
        },
        "id": "390BeHeMWGDR",
        "outputId": "675d273c-01a2-4135-e357-34187e6af275"
      },
      "execution_count": 10,
      "outputs": [
        {
          "output_type": "stream",
          "name": "stdout",
          "text": [
            "Enter a string10\n",
            "Integer value is: 10\n",
            "Enter a string10\n",
            "float value is: 10.0\n",
            "Enter a string10\n",
            "boolean value is: True\n"
          ]
        }
      ]
    },
    {
      "cell_type": "code",
      "source": [
        "#Que.10 Write code to demonstrate type casting with list elements.\n",
        "\n",
        "#Example1:\n",
        "# List with mixed data types (string numbers)\n",
        "str_list = [\"10\", \"20\", \"30\", \"40.5\", \"50.7\"]\n",
        "\n",
        "# Convert string elements to integers (if possible)\n",
        "int_list = [int(float(num)) for num in str_list]\n",
        "print(\"List converted to integers:\", int_list)\n",
        "\n",
        "# Convert string elements to floats\n",
        "float_list = [float(num) for num in str_list]\n",
        "print(\"List converted to floats:\", float_list)\n",
        "\n",
        "# Convert integers back to strings\n",
        "str_converted_list = [str(num) for num in int_list]\n",
        "print(\"List converted back to strings:\", str_converted_list)\n",
        "\n",
        "\n",
        "#Example2:\n",
        "list1 = [1,2,3,4,5,6]\n",
        "print(list1)\n",
        "\n",
        "list2 = [1.1,2.2,3.3,4.4,5.5,6.6]\n",
        "print(list2)\n",
        "\n",
        "list3 = [True,False,True,False]\n",
        "print(list3)\n",
        "\n",
        "list4 = [\"India\",\"is\",\"great\"]\n",
        "print(list4)\n",
        "\n",
        "list5 = [1,2.2,True,\"India\"]\n",
        "print(list5)\n",
        "\n"
      ],
      "metadata": {
        "id": "KqZM6dnp77mN",
        "colab": {
          "base_uri": "https://localhost:8080/"
        },
        "outputId": "78ff281c-d748-4223-a845-eeb897c33f0a"
      },
      "execution_count": 15,
      "outputs": [
        {
          "output_type": "stream",
          "name": "stdout",
          "text": [
            "List converted to integers: [10, 20, 30, 40, 50]\n",
            "List converted to floats: [10.0, 20.0, 30.0, 40.5, 50.7]\n",
            "List converted back to strings: ['10', '20', '30', '40', '50']\n",
            "[1, 2, 3, 4, 5, 6]\n",
            "[1.1, 2.2, 3.3, 4.4, 5.5, 6.6]\n",
            "[True, False, True, False]\n",
            "['India', 'is', 'great']\n",
            "[1, 2.2, True, 'India']\n"
          ]
        }
      ]
    },
    {
      "cell_type": "code",
      "source": [
        "#Que.11 Write a program that checks if a number is positive, negative, or zero.\n",
        "\n",
        "num = int(input(\"Enter a number:\"))\n",
        "if num > 0:\n",
        "  print(f\"{num} is a positive number\")\n",
        "elif num < 0:\n",
        "    print(f\"{num} is a negative number\")\n",
        "else:\n",
        "      print(f\"{num}is a zero\")"
      ],
      "metadata": {
        "id": "UQ_mI50r77qa",
        "colab": {
          "base_uri": "https://localhost:8080/"
        },
        "outputId": "88b21d53-9d72-4e00-fa1b-09c4574cac68"
      },
      "execution_count": 33,
      "outputs": [
        {
          "output_type": "stream",
          "name": "stdout",
          "text": [
            "Enter a number:2345\n",
            "2345 is a positive number\n"
          ]
        }
      ]
    },
    {
      "cell_type": "code",
      "source": [
        "# Que.12 Write a for loop to print numbers from 1 to 10\n",
        "\n",
        "for number in range(1,11):\n",
        "  print(number)\n",
        "\n"
      ],
      "metadata": {
        "id": "XMiGua7z77tN",
        "colab": {
          "base_uri": "https://localhost:8080/"
        },
        "outputId": "b2b3bf8d-73cb-4bfe-dea4-ab62c555e877"
      },
      "execution_count": 31,
      "outputs": [
        {
          "output_type": "stream",
          "name": "stdout",
          "text": [
            "1\n",
            "2\n",
            "3\n",
            "4\n",
            "5\n",
            "6\n",
            "7\n",
            "8\n",
            "9\n",
            "10\n"
          ]
        }
      ]
    },
    {
      "cell_type": "code",
      "source": [
        "#Que.13 Write a Python program to find the sum of all even numbers between 1 and 50.\n",
        "\n",
        "#Example1:\n",
        "total_sum = 0  # Initialize a variable to store the sum\n",
        "\n",
        "for number in range(2, 50, 2):  # Iterate through even numbers from 2 to 50\n",
        "    total_sum += number  # Add the current number to the total sum\n",
        "\n",
        "print(\"The sum of all even numbers between 1 and 50 is:\", total_sum)\n",
        "\n",
        "\n",
        "\n",
        "#Example2:\n",
        "total_sum = 0\n",
        "for number in range(1,50):\n",
        "  if number % 2 == 0:\n",
        "    total_sum += number\n",
        "print(\"The sum of all even numbers between 1 and 50 is:\",total_sum)\n",
        "\n",
        "\n"
      ],
      "metadata": {
        "id": "8h_eTZ8F77u_",
        "colab": {
          "base_uri": "https://localhost:8080/"
        },
        "outputId": "76a31767-85f8-4d26-a866-1811da27cb3b"
      },
      "execution_count": 11,
      "outputs": [
        {
          "output_type": "stream",
          "name": "stdout",
          "text": [
            "The sum of all even numbers between 1 and 50 is: 600\n",
            "The sum of all even numbers between 1 and 50 is: 600\n"
          ]
        }
      ]
    },
    {
      "cell_type": "code",
      "source": [
        "#Que.14 Write a program to reverse a string using a while loop.\n",
        "\n",
        "str1 = \"India is great.\"\n",
        "print(str1[::-1])"
      ],
      "metadata": {
        "id": "oO4WNQSc77xD",
        "colab": {
          "base_uri": "https://localhost:8080/"
        },
        "outputId": "b6773083-4740-40c0-e3f9-b0d92862781e"
      },
      "execution_count": 23,
      "outputs": [
        {
          "output_type": "stream",
          "name": "stdout",
          "text": [
            ".taerg si aidnI\n"
          ]
        }
      ]
    },
    {
      "cell_type": "code",
      "source": [
        "#Que.15 Write a Python program to calculate the factorial of a number provided by the user using a while loop.\n",
        "\n",
        "# Get input from the user\n",
        "n = int(input(\"Enter a number: \"))\n",
        "\n",
        "# Initialize factorial variable\n",
        "factorial = 1\n",
        "\n",
        "# Calculate factorial using a while loop\n",
        "while n > 1:\n",
        "    factorial *= n\n",
        "    n -= 1\n",
        "\n",
        "# Print the factorial\n",
        "print(\"The factorial is:\", factorial)\n",
        "\n"
      ],
      "metadata": {
        "id": "bpp69ZmE771B",
        "colab": {
          "base_uri": "https://localhost:8080/"
        },
        "outputId": "f1a38282-0e2c-4f76-c64f-42afcc0c4dcd"
      },
      "execution_count": 25,
      "outputs": [
        {
          "output_type": "stream",
          "name": "stdout",
          "text": [
            "Enter a number: 50\n",
            "The factorial is: 30414093201713378043612608166064768844377641568960512000000000000\n"
          ]
        }
      ]
    }
  ]
}